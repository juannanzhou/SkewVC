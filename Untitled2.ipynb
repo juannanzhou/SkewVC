{
 "cells": [
  {
   "cell_type": "code",
   "execution_count": 1,
   "id": "4e08463e-e71f-430c-95b6-3321b57bb592",
   "metadata": {},
   "outputs": [],
   "source": [
    "import torch"
   ]
  },
  {
   "cell_type": "code",
   "execution_count": 2,
   "id": "425a553f-5c7e-4831-a538-e7e79b24ec18",
   "metadata": {},
   "outputs": [
    {
     "data": {
      "text/plain": [
       "'1.8.1'"
      ]
     },
     "execution_count": 2,
     "metadata": {},
     "output_type": "execute_result"
    }
   ],
   "source": [
    "torch.__version__"
   ]
  },
  {
   "cell_type": "code",
   "execution_count": 3,
   "id": "d9c13fd7-aa90-4cae-8a60-174e466f63fa",
   "metadata": {},
   "outputs": [
    {
     "data": {
      "text/plain": [
       "'/apps/pytorch/1.8.1/lib/python3.9/site-packages/torch/__init__.py'"
      ]
     },
     "execution_count": 3,
     "metadata": {},
     "output_type": "execute_result"
    }
   ],
   "source": [
    "torch.__file__"
   ]
  },
  {
   "cell_type": "code",
   "execution_count": null,
   "id": "fb5f28e7-de03-482c-b741-7fdf613c9d10",
   "metadata": {},
   "outputs": [],
   "source": []
  },
  {
   "cell_type": "code",
   "execution_count": null,
   "id": "8f3abd3e-fdaf-4586-9786-25b242d6a63c",
   "metadata": {},
   "outputs": [],
   "source": []
  },
  {
   "cell_type": "code",
   "execution_count": null,
   "id": "07792b33-fa96-48ab-b705-664afbf264f4",
   "metadata": {},
   "outputs": [],
   "source": []
  },
  {
   "cell_type": "code",
   "execution_count": 4,
   "id": "2adc7ff0-b1c2-48bf-a1c9-3d78b74e87fe",
   "metadata": {},
   "outputs": [
    {
     "name": "stdout",
     "output_type": "stream",
     "text": [
      "Planning to run on 8 GPUs.\n",
      "| ID | GPU | MEM |\n",
      "------------------\n",
      "|  0 |  0% |  0% |\n",
      "|  1 |  0% |  0% |\n",
      "|  2 |  0% |  0% |\n",
      "|  3 |  0% |  0% |\n",
      "|  4 |  0% |  0% |\n",
      "|  5 |  0% |  0% |\n",
      "|  6 |  0% |  0% |\n",
      "|  7 |  0% |  0% |\n"
     ]
    }
   ],
   "source": [
    "import sys\n",
    "sys.path.insert(1, '/home/juannanzhou/.local/lib/python3.9/site-packages')\n",
    "sys.path.insert(1, '/home/juannanzhou/.local/bin')\n",
    "\n",
    "import itertools\n",
    "import torch\n",
    "import torch.nn.functional as F\n",
    "import numpy as np\n",
    "import GPUtil\n",
    "\n",
    "n_devices = torch.cuda.device_count()\n",
    "output_device = torch.device('cuda:0')\n",
    "print('Planning to run on {} GPUs.'.format(n_devices))\n",
    "\n",
    "GPUtil.showUtilization()"
   ]
  },
  {
   "cell_type": "code",
   "execution_count": 5,
   "id": "1dd97cf9-78f0-4001-8979-3d610d4d4a31",
   "metadata": {},
   "outputs": [
    {
     "name": "stderr",
     "output_type": "stream",
     "text": [
      "/scratch/local/47956094/ipykernel_80633/3846775826.py:16: UserWarning: To copy construct from a tensor, it is recommended to use sourceTensor.clone().detach() or sourceTensor.clone().detach().requires_grad_(True), rather than torch.tensor(sourceTensor).\n",
      "  seqs1h_test = torch.flatten(torch.tensor(F.one_hot(seqs), dtype=torch.float32), start_dim=1).to(output_device)\n"
     ]
    }
   ],
   "source": [
    "alpha = 4\n",
    "l = 8\n",
    "alphabet = list(range(alpha))\n",
    "\n",
    "# prob no mutation at time 1\n",
    "# q = 1 - 1/l\n",
    "q = 0.7\n",
    "\n",
    "odds = torch.tensor([q**t/(1 - q**t) for t in range(1, l+1)]).to(output_device)\n",
    "\n",
    "scaling_factors = torch.tensor([(1 - q**t)**l for t in range(l+1)]).to(output_device)\n",
    "scaling_factors[0] = 1\n",
    "\n",
    "seqs = list(itertools.product(alphabet, repeat=l))\n",
    "seqs = torch.tensor(seqs).to(output_device)\n",
    "seqs1h_test = torch.flatten(torch.tensor(F.one_hot(seqs), dtype=torch.float32), start_dim=1).to(output_device)\n",
    "\n",
    "seqs2 = []\n",
    "for d in range(0, l+1):\n",
    "    seq = torch.zeros(l)\n",
    "    seq[:d] = 3\n",
    "    seqs2.append(seq)\n",
    "\n",
    "seqs2 = torch.stack(seqs2).type(torch.int64)\n",
    "\n",
    "x1 = seqs1h_test[:10]\n",
    "x2 = F.one_hot(seqs2).type(torch.float32).to(output_device)\n",
    "x2 = torch.flatten(x2, 1)"
   ]
  },
  {
   "cell_type": "code",
   "execution_count": null,
   "id": "4ef8c3f9-7576-49a1-8c3c-dcbbc265da59",
   "metadata": {},
   "outputs": [],
   "source": []
  }
 ],
 "metadata": {
  "kernelspec": {
   "display_name": "PyTorch-1.8.1",
   "language": "python",
   "name": "pytorch-1.8.1"
  },
  "language_info": {
   "codemirror_mode": {
    "name": "ipython",
    "version": 3
   },
   "file_extension": ".py",
   "mimetype": "text/x-python",
   "name": "python",
   "nbconvert_exporter": "python",
   "pygments_lexer": "ipython3",
   "version": "3.9.5"
  }
 },
 "nbformat": 4,
 "nbformat_minor": 5
}
