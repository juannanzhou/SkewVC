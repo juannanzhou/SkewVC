{
 "cells": [
  {
   "cell_type": "code",
   "execution_count": 935,
   "id": "1924bca6-ae9b-4187-b9af-65f092a89e8d",
   "metadata": {
    "tags": []
   },
   "outputs": [],
   "source": [
    "import torch\n",
    "from torch.nn import ModuleList\n",
    "from gpytorch.module import Module\n",
    "\n",
    "from abc import abstractmethod\n",
    "\n",
    "\n",
    "def default_postprocess_script(x):\n",
    "    return x\n",
    "\n",
    "\n",
    "\n",
    "class Distance1(torch.nn.Module):\n",
    "    def __init__(self, postprocess_script=default_postprocess_script):\n",
    "        super().__init__()\n",
    "        self._postprocess = postprocess_script\n",
    "\n",
    "    def _sq_dist(self, x1, x2, postprocess, x1_eq_x2=False):\n",
    "        \n",
    "        res = torch.mul(torch.unsqueeze(x1, 1), torch.unsqueeze(x2, 0))\n",
    "\n",
    "        if x1_eq_x2 and not x1.requires_grad and not x2.requires_grad:\n",
    "            pass\n",
    "#             res.diagonal(dim1=-2, dim2=-1).fill_(0)\n",
    "\n",
    "        # Zero out negative values\n",
    "        res.clamp_min_(0)\n",
    "        return self._postprocess(res) if postprocess else res\n",
    "\n",
    "    def _dist(self, x1, x2, postprocess, x1_eq_x2=False):\n",
    "        # TODO: use torch cdist once implementation is improved: https://github.com/pytorch/pytorch/pull/25799\n",
    "        res = self._sq_dist(x1, x2, postprocess=False, x1_eq_x2=x1_eq_x2)\n",
    "        res = res.clamp_min_(1e-30).sqrt_()\n",
    "        return self._postprocess(res) if postprocess else res\n",
    "\n",
    "\n",
    "\n",
    "\n",
    "class Kernel(Module):\n",
    "\n",
    "    has_lengthscale = False\n",
    "\n",
    "    def __init__(\n",
    "        self,\n",
    "        ard_num_dims=None,\n",
    "        batch_shape=torch.Size([]),\n",
    "        active_dims=None,\n",
    "        lengthscale_prior=None,\n",
    "        lengthscale_constraint=None,\n",
    "        eps=1e-6,\n",
    "        **kwargs,\n",
    "    ):\n",
    "        super(Kernel, self).__init__()\n",
    "        self._batch_shape = batch_shape\n",
    "        if active_dims is not None and not torch.is_tensor(active_dims):\n",
    "            active_dims = torch.tensor(active_dims, dtype=torch.long)\n",
    "        self.register_buffer(\"active_dims\", active_dims)\n",
    "        self.ard_num_dims = ard_num_dims\n",
    "\n",
    "        self.eps = eps\n",
    "\n",
    "        param_transform = kwargs.get(\"param_transform\")\n",
    "\n",
    "        if lengthscale_constraint is None:\n",
    "            lengthscale_constraint = Positive()\n",
    "\n",
    "        if param_transform is not None:\n",
    "            warnings.warn(\n",
    "                \"The 'param_transform' argument is now deprecated. If you want to use a different \"\n",
    "                \"transformation, specify a different 'lengthscale_constraint' instead.\",\n",
    "                DeprecationWarning,\n",
    "            )\n",
    "\n",
    "        if self.has_lengthscale:\n",
    "            lengthscale_num_dims = 1 if ard_num_dims is None else ard_num_dims\n",
    "            self.register_parameter(\n",
    "                name=\"raw_lengthscale\",\n",
    "                parameter=torch.nn.Parameter(torch.zeros(*self.batch_shape, 1, lengthscale_num_dims)),\n",
    "            )\n",
    "            if lengthscale_prior is not None:\n",
    "                self.register_prior(\n",
    "                    \"lengthscale_prior\", lengthscale_prior, lambda m: m.lengthscale, lambda m, v: m._set_lengthscale(\n",
    "                        v)\n",
    "                )\n",
    "\n",
    "            self.register_constraint(\"raw_lengthscale\", lengthscale_constraint)\n",
    "\n",
    "        self.distance_module = None\n",
    "        # TODO: Remove this on next official PyTorch release.\n",
    "        self.__pdist_supports_batch = True\n",
    "\n",
    "    @abstractmethod\n",
    "    def forward(self, x1, x2, diag=False, last_dim_is_batch=False, **params):\n",
    "        raise NotImplementedError()\n",
    "\n",
    "    @property\n",
    "    def batch_shape(self):\n",
    "        kernels = list(self.sub_kernels())\n",
    "        if len(kernels):\n",
    "            return _mul_broadcast_shape(self._batch_shape, *[k.batch_shape for k in kernels])\n",
    "        else:\n",
    "            return self._batch_shape\n",
    "\n",
    "    @batch_shape.setter\n",
    "    def batch_shape(self, val):\n",
    "        self._batch_shape = val\n",
    "\n",
    "    @property\n",
    "    def dtype(self):\n",
    "        if self.has_lengthscale:\n",
    "            return self.lengthscale.dtype\n",
    "        else:\n",
    "            for param in self.parameters():\n",
    "                return param.dtype\n",
    "            return torch.get_default_dtype()\n",
    "\n",
    "    @property\n",
    "    def is_stationary(self) -> bool:\n",
    "        \"\"\"\n",
    "        Property to indicate whether kernel is stationary or not.\n",
    "        \"\"\"\n",
    "        return self.has_lengthscale\n",
    "\n",
    "    @property\n",
    "    def lengthscale(self):\n",
    "        if self.has_lengthscale:\n",
    "            return self.raw_lengthscale_constraint.transform(self.raw_lengthscale)\n",
    "        else:\n",
    "            return None\n",
    "\n",
    "    @lengthscale.setter\n",
    "    def lengthscale(self, value):\n",
    "        self._set_lengthscale(value)\n",
    "\n",
    "    def _set_lengthscale(self, value):\n",
    "        if not self.has_lengthscale:\n",
    "            raise RuntimeError(\"Kernel has no lengthscale.\")\n",
    "\n",
    "        if not torch.is_tensor(value):\n",
    "            value = torch.as_tensor(value).to(self.raw_lengthscale)\n",
    "\n",
    "        self.initialize(\n",
    "            raw_lengthscale=self.raw_lengthscale_constraint.inverse_transform(value))\n",
    "\n",
    "    def local_load_samples(self, samples_dict, memo, prefix):\n",
    "        num_samples = next(iter(samples_dict.values())).size(0)\n",
    "        self.batch_shape = torch.Size([num_samples]) + self.batch_shape\n",
    "        super().local_load_samples(samples_dict, memo, prefix)\n",
    "\n",
    "    def covar_dist(\n",
    "        self,\n",
    "        x1,\n",
    "        x2,\n",
    "        diag=False,\n",
    "        last_dim_is_batch=False,\n",
    "        square_dist=True,\n",
    "        dist_postprocess_func=default_postprocess_script,\n",
    "        postprocess=True,\n",
    "        **params,\n",
    "    ):\n",
    "\n",
    "        if last_dim_is_batch:\n",
    "            x1 = x1.transpose(-1, -2).unsqueeze(-1)\n",
    "            x2 = x2.transpose(-1, -2).unsqueeze(-1)\n",
    "\n",
    "        x1_eq_x2 = torch.equal(x1, x2)\n",
    "\n",
    "        # torch scripts expect tensors\n",
    "        postprocess = torch.tensor(postprocess)\n",
    "\n",
    "        res = None\n",
    "\n",
    "        # Cache the Distance object or else JIT will recompile every time\n",
    "        if not self.distance_module or self.distance_module._postprocess != dist_postprocess_func:\n",
    "            self.distance_module = Distance1(dist_postprocess_func)\n",
    "\n",
    "        if diag:\n",
    "            # Special case the diagonal because we can return all zeros most of\n",
    "            # the time.\n",
    "            if x1_eq_x2:\n",
    "                res = torch.zeros(*x1.shape[:-2], x1.shape[-2], dtype=x1.dtype, device=x1.device)\n",
    "                if postprocess:\n",
    "                    res = dist_postprocess_func(res)\n",
    "                return res\n",
    "            else:\n",
    "                res = torch.norm(x1 - x2, p=2, dim=-1)\n",
    "                if square_dist:\n",
    "                    res = res.pow(2)\n",
    "            if postprocess:\n",
    "                res = dist_postprocess_func(res)\n",
    "            return res\n",
    "\n",
    "        elif square_dist:\n",
    "            res = self.distance_module._sq_dist(x1, x2, postprocess, x1_eq_x2)\n",
    "        else:\n",
    "            res = self.distance_module._dist(x1, x2, postprocess, x1_eq_x2)\n",
    "\n",
    "        return res\n",
    "\n",
    "    def named_sub_kernels(self):\n",
    "        for name, module in self.named_modules():\n",
    "            if module is not self and isinstance(module, Kernel):\n",
    "                yield name, module\n",
    "\n",
    "    def num_outputs_per_input(self, x1, x2):\n",
    "        \"\"\"\n",
    "        How many outputs are produced per input (default 1)\n",
    "        if x1 is size `n x d` and x2 is size `m x d`, then the size of the kernel\n",
    "        will be `(n * num_outputs_per_input) x (m * num_outputs_per_input)`\n",
    "        Default: 1\n",
    "        \"\"\"\n",
    "        return 1\n",
    "\n",
    "    def prediction_strategy(self, train_inputs, train_prior_dist, train_labels, likelihood):\n",
    "        return exact_prediction_strategies.DefaultPredictionStrategy(\n",
    "            train_inputs, train_prior_dist, train_labels, likelihood\n",
    "        )\n",
    "\n",
    "    def sub_kernels(self):\n",
    "        for _, kernel in self.named_sub_kernels():\n",
    "            yield kernel\n",
    "\n",
    "    def __call__(self, x1, x2=None, diag=False, last_dim_is_batch=False, **params):\n",
    "        x1_, x2_ = x1, x2\n",
    "\n",
    "        # Select the active dimensions\n",
    "        if self.active_dims is not None:\n",
    "            x1_ = x1_.index_select(-1, self.active_dims)\n",
    "            if x2_ is not None:\n",
    "                x2_ = x2_.index_select(-1, self.active_dims)\n",
    "\n",
    "        # Give x1_ and x2_ a last dimension, if necessary\n",
    "        if x1_.ndimension() == 1:\n",
    "            x1_ = x1_.unsqueeze(1)\n",
    "        if x2_ is not None:\n",
    "            if x2_.ndimension() == 1:\n",
    "                x2_ = x2_.unsqueeze(1)\n",
    "            if not x1_.size(-1) == x2_.size(-1):\n",
    "                raise RuntimeError(\n",
    "                    \"x1_ and x2_ must have the same number of dimensions!\")\n",
    "\n",
    "        if x2_ is None:\n",
    "            x2_ = x1_\n",
    "\n",
    "        # Check that ard_num_dims matches the supplied number of dimensions\n",
    "        if settings.debug.on():\n",
    "            if self.ard_num_dims is not None and self.ard_num_dims != x1_.size(-1):\n",
    "                raise RuntimeError(\n",
    "                    \"Expected the input to have {} dimensionality \"\n",
    "                    \"(based on the ard_num_dims argument). Got {}.\".format(\n",
    "                        self.ard_num_dims, x1_.size(-1))\n",
    "                )\n",
    "\n",
    "        if diag:\n",
    "            res = super(Kernel, self).__call__(x1_, x2_, diag=True,\n",
    "                                               last_dim_is_batch=last_dim_is_batch, **params)\n",
    "            # Did this Kernel eat the diag option?\n",
    "            # If it does not return a LazyEvaluatedKernelTensor, we can call\n",
    "            # diag on the output\n",
    "            if not isinstance(res, LazyEvaluatedKernelTensor):\n",
    "                if res.dim() == x1_.dim() and res.shape[-2:] == torch.Size((x1_.size(-2), x2_.size(-2))):\n",
    "                    res = res.diag()\n",
    "            return res\n",
    "\n",
    "        else:\n",
    "            if settings.lazily_evaluate_kernels.on():\n",
    "                res = LazyEvaluatedKernelTensor(\n",
    "                    x1_, x2_, kernel=self, last_dim_is_batch=last_dim_is_batch, **params)\n",
    "            else:\n",
    "                res = lazify(super(Kernel, self).__call__(\n",
    "                    x1_, x2_, last_dim_is_batch=last_dim_is_batch, **params))\n",
    "            return res\n",
    "\n",
    "    def __getstate__(self):\n",
    "        # JIT ScriptModules cannot be pickled\n",
    "        self.distance_module = None\n",
    "        return self.__dict__\n",
    "\n",
    "    def __add__(self, other):\n",
    "        kernels = []\n",
    "        kernels += self.kernels if isinstance(self, AdditiveKernel) else [self]\n",
    "        kernels += other.kernels if isinstance(other,\n",
    "                                               AdditiveKernel) else [other]\n",
    "        return AdditiveKernel(*kernels)\n",
    "\n",
    "    def __mul__(self, other):\n",
    "        kernels = []\n",
    "        kernels += self.kernels if isinstance(self, ProductKernel) else [self]\n",
    "        kernels += other.kernels if isinstance(other,\n",
    "                                               ProductKernel) else [other]\n",
    "        return ProductKernel(*kernels)\n",
    "\n",
    "    def __setstate__(self, d):\n",
    "        self.__dict__ = d\n",
    "\n",
    "    def __getitem__(self, index):\n",
    "        if len(self.batch_shape) == 0:\n",
    "            return self\n",
    "\n",
    "        new_kernel = deepcopy(self)\n",
    "        # Process the index\n",
    "        index = index if isinstance(index, tuple) else (index,)\n",
    "\n",
    "        for param_name, param in self._parameters.items():\n",
    "            new_kernel._parameters[param_name].data = param.__getitem__(index)\n",
    "            ndim_removed = len(param.shape) - \\\n",
    "                len(new_kernel._parameters[param_name].shape)\n",
    "            new_batch_shape_len = len(self.batch_shape) - ndim_removed\n",
    "            new_kernel.batch_shape = new_kernel._parameters[\n",
    "                param_name].shape[:new_batch_shape_len]\n",
    "\n",
    "        for sub_module_name, sub_module in self.named_sub_kernels():\n",
    "            self._modules[sub_module_name] = sub_module.__getitem__(index)\n",
    "\n",
    "        return new_kernel\n"
   ]
  },
  {
   "cell_type": "markdown",
   "id": "7af93ae9-0741-41d3-a86b-2e32d007c505",
   "metadata": {},
   "source": [
    "### Preparation"
   ]
  },
  {
   "cell_type": "code",
   "execution_count": 936,
   "id": "a345476c-d7e7-414a-9987-56cd1cae922f",
   "metadata": {},
   "outputs": [],
   "source": [
    "import itertools\n",
    "import torch\n",
    "import torch.nn.functional as F\n",
    "import numpy as np\n",
    "import GPUtil"
   ]
  },
  {
   "cell_type": "code",
   "execution_count": 937,
   "id": "91d3b7cb-deac-44b3-9723-90069c062a22",
   "metadata": {},
   "outputs": [
    {
     "name": "stdout",
     "output_type": "stream",
     "text": [
      "| ID | GPU | MEM |\n",
      "------------------\n",
      "|  0 |  0% |  4% |\n",
      "|  1 |  0% |  0% |\n",
      "|  2 |  0% |  3% |\n",
      "|  3 |  0% |  0% |\n",
      "|  4 | 51% |  3% |\n",
      "|  5 |  0% |  0% |\n",
      "|  6 |  0% |  0% |\n",
      "|  7 |  0% |  0% |\n"
     ]
    }
   ],
   "source": [
    "GPUtil.showUtilization()"
   ]
  },
  {
   "cell_type": "code",
   "execution_count": 938,
   "id": "808db33e-7763-438e-91e2-661c68b00dc7",
   "metadata": {},
   "outputs": [
    {
     "name": "stdout",
     "output_type": "stream",
     "text": [
      "Planning to run on 2 GPUs.\n"
     ]
    }
   ],
   "source": [
    "n_devices = torch.cuda.device_count()\n",
    "output_device = torch.device('cuda:0')\n",
    "print('Planning to run on {} GPUs.'.format(n_devices))"
   ]
  },
  {
   "cell_type": "code",
   "execution_count": 939,
   "id": "37bbbee1-5931-4538-81b7-be12564ea111",
   "metadata": {},
   "outputs": [],
   "source": [
    "alpha = 4\n",
    "l = 8\n",
    "alphabet = list(range(alpha))\n",
    "\n",
    "# prob no mutation at time 1\n",
    "q = 1 - 1/l\n",
    "\n",
    "odds = torch.tensor([q**t/(1 - q**t) for t in range(1, l+1)]).to(output_device)"
   ]
  },
  {
   "cell_type": "code",
   "execution_count": 940,
   "id": "464a4a67-db9b-4de1-bdc1-dc388a8bf284",
   "metadata": {},
   "outputs": [],
   "source": [
    "seqs = list(itertools.product(alphabet, repeat=l))\n",
    "seqs = torch.tensor(seqs).to(output_device)"
   ]
  },
  {
   "cell_type": "code",
   "execution_count": 941,
   "id": "276d7ab1-6242-49fa-809d-17486acef101",
   "metadata": {},
   "outputs": [],
   "source": [
    "seqs1h_test = torch.flatten(F.one_hot(seqs), start_dim=1).to(output_device)"
   ]
  },
  {
   "cell_type": "code",
   "execution_count": 942,
   "id": "9ebc7ad8-65cf-4d73-91c1-ef789189ae15",
   "metadata": {},
   "outputs": [],
   "source": [
    "x1 = seqs1h_test[:10]\n",
    "x2 = seqs1h_test[10:30]"
   ]
  },
  {
   "cell_type": "markdown",
   "id": "19f8c1c3-49c9-44ac-aa98-19b568b91f51",
   "metadata": {},
   "source": [
    "### Build Kernel"
   ]
  },
  {
   "cell_type": "code",
   "execution_count": 943,
   "id": "b4c7549f-c037-42d0-a025-9ad2c4524047",
   "metadata": {},
   "outputs": [],
   "source": [
    "## Inverse for eigenvalue matrix for calculate K = \\sum b_k P'^k\n",
    "\n",
    "scaling_factors = np.array([(1 - q**t)**l for t in range(l+1)])\n",
    "scaling_factors[0] = 1\n",
    "eigvals = np.array([[np.exp(-k*t) for t in range(l+1)] for k in range(l+1)])\n",
    "eigvals = eigvals*scaling_factors\n",
    "\n",
    "coeffs = np.linalg.inv(eigvals)\n",
    "coeffs = torch.tensor(coeffs, dtype=torch.float32).to(output_device)"
   ]
  },
  {
   "cell_type": "code",
   "execution_count": 944,
   "id": "75a48a23-64f9-4d3e-ae03-e74d1701985f",
   "metadata": {},
   "outputs": [],
   "source": [
    "scaling_factors = torch.tensor([(1 - q**t)**l for t in range(l+1)]).to(output_device)\n",
    "scaling_factors[0] = 1"
   ]
  },
  {
   "cell_type": "code",
   "execution_count": 945,
   "id": "4e56ddc3-304e-416e-9163-2432b00ca5d1",
   "metadata": {},
   "outputs": [],
   "source": [
    "import gpytorch\n",
    "from gpytorch import settings\n",
    "from gpytorch.constraints import Positive\n",
    "from gpytorch.lazy import LazyEvaluatedKernelTensor, ZeroLazyTensor, delazify, lazify\n",
    "from gpytorch.models import exact_prediction_strategies\n",
    "from gpytorch.module import Module\n",
    "from gpytorch.utils.broadcasting import _mul_broadcast_shape"
   ]
  },
  {
   "cell_type": "code",
   "execution_count": 946,
   "id": "9db6ed7e-8122-4d2f-8a66-17abc5c23a4a",
   "metadata": {},
   "outputs": [],
   "source": [
    "from gpytorch.constraints import Positive\n",
    "from gpytorch.constraints import LessThan\n",
    "\n",
    "class SkewKernel(Kernel):\n",
    "    \"\"\"Diploid kernel\"\"\"\n",
    "\n",
    "    is_stationary = True\n",
    "\n",
    "    # We will register the parameter when initializing the kernel\n",
    "    def __init__(self, alpha, l, odds,\n",
    "                log_lda_prior=None, log_lda_constraint=None, \n",
    "                log_p_prior=None, log_p_constraint=None,\n",
    "                **kwargs):\n",
    "        super().__init__(**kwargs)\n",
    "\n",
    "        # register the raw parameter\n",
    "        self.register_parameter(\n",
    "          name='raw_log_p', \n",
    "          parameter=torch.nn.Parameter(torch.zeros(*self.batch_shape, l, alpha))\n",
    "        )\n",
    "\n",
    "        self.register_parameter(\n",
    "          name='raw_log_lda', \n",
    "          parameter=torch.nn.Parameter(torch.zeros(*self.batch_shape, l+1))\n",
    "        )\n",
    "\n",
    "        # set the parameter constraint to be positive, when nothing is specified\n",
    "        if log_lda_constraint is None:\n",
    "          log_lda_constraint = LessThan(upper_bound=0.)\n",
    "\n",
    "        if log_p_constraint is None:\n",
    "          log_p_constraint = LessThan(upper_bound=0.)\n",
    "\n",
    "        # register the constraint\n",
    "        self.register_constraint(\"raw_log_lda\", log_lda_constraint)\n",
    "        self.register_constraint(\"raw_log_p\", log_p_constraint)\n",
    "\n",
    "\n",
    "    # now set up the 'actual' paramter\n",
    "    @property\n",
    "    def log_lda(self):\n",
    "      # when accessing the parameter, apply the constraint transform\n",
    "      return self.raw_log_lda_constraint.transform(self.raw_log_lda)\n",
    "\n",
    "    @property\n",
    "    def log_p(self):\n",
    "      # when accessing the parameter, apply the constraint transform\n",
    "      return self.raw_log_p_constraint.transform(self.raw_log_p)\n",
    "\n",
    "    @log_lda.setter\n",
    "    def log_lda(self, value):\n",
    "      return self._set_log_lda(value)\n",
    "\n",
    "    @log_p.setter\n",
    "    def log_p(self, value):\n",
    "      return self._set_log_p(value)\n",
    "\n",
    "\n",
    "    def forward(self, x1, x2, **params):\n",
    "        # construct masks used for calculate rates\n",
    "        masks = self.covar_dist(x1, x2)\n",
    "        ps = torch.softmax(self.log_p, axis=1)\n",
    "        \n",
    "        pi = x2*(torch.flatten(ps))\n",
    "        pi[pi==0.] = 1\n",
    "        pi = torch.prod(pi, 1)\n",
    "        Dpi = torch.diag(pi)        \n",
    "\n",
    "        rates = odds.unsqueeze(1).unsqueeze(-1)  + torch.unsqueeze(ps, 0)\n",
    "        rates = rates/ps\n",
    "        rates = rates.to(output_device)\n",
    "        rates = torch.flatten(rates, start_dim=1)\n",
    "        log_rates = torch.log(rates)\n",
    "        \n",
    "\n",
    "        out = torch.mul(masks.unsqueeze(2), log_rates)\n",
    "        out = torch.flatten(out, start_dim=3)\n",
    "\n",
    "        powers_nz = torch.exp(torch.sum(out, -1))\n",
    "        power_0 = F.relu(torch.sum(masks, -1) - l + 1).matmul(torch.linalg.inv(Dpi))\n",
    "        powers = torch.cat([power_0.unsqueeze(-1), powers_nz], dim=-1)\n",
    "        powers = powers*scaling_factors\n",
    "        \n",
    "        weights = torch.matmul(coeffs.to(output_device), torch.exp(self.log_lda))\n",
    "        \n",
    "        return torch.sum(torch.mul(powers, weights), -1)"
   ]
  },
  {
   "cell_type": "code",
   "execution_count": 947,
   "id": "250f51ae-5c47-4d83-823c-f7c217647c6e",
   "metadata": {},
   "outputs": [],
   "source": [
    "kernel = SkewKernel(alpha, l, odds).to(output_device)"
   ]
  },
  {
   "cell_type": "code",
   "execution_count": 948,
   "id": "02916784-61cf-4ae7-a329-b9af84f5baa3",
   "metadata": {},
   "outputs": [
    {
     "data": {
      "text/plain": [
       "torch.Size([65536, 32])"
      ]
     },
     "execution_count": 948,
     "metadata": {},
     "output_type": "execute_result"
    }
   ],
   "source": [
    "seqs1h_test.shape"
   ]
  },
  {
   "cell_type": "code",
   "execution_count": 830,
   "id": "cc60ca9c-5eb5-4d38-b0e8-5d2e67848059",
   "metadata": {},
   "outputs": [],
   "source": [
    "powers_nz, powers, rates = kernel.func(seqs1h_test, seqs1h_test)"
   ]
  },
  {
   "cell_type": "code",
   "execution_count": 831,
   "id": "30e01f20-0003-4567-9078-5e0532c3d6a8",
   "metadata": {},
   "outputs": [],
   "source": [
    "rates = odds.unsqueeze(1).unsqueeze(-1)  + torch.unsqueeze(ps, 0)\n",
    "rates = rates/ps"
   ]
  },
  {
   "cell_type": "markdown",
   "id": "b8dff2af-9367-4cc2-a60a-01087b4563e6",
   "metadata": {},
   "source": [
    "#### Eigenvals"
   ]
  },
  {
   "cell_type": "code",
   "execution_count": 832,
   "id": "6279089a-f302-4a55-8803-f5fa6d65d8ed",
   "metadata": {},
   "outputs": [],
   "source": [
    "def get_ev(M):\n",
    "    return torch.sort(torch.eig(M)[0][:,0].unique(), descending=True)[0]"
   ]
  },
  {
   "cell_type": "code",
   "execution_count": 833,
   "id": "243c0070-dc13-41cc-bccb-bcb10aea8626",
   "metadata": {},
   "outputs": [],
   "source": [
    "t=1\n",
    "\n",
    "Pp = powers[:,:,t].matmul(Dpi)"
   ]
  },
  {
   "cell_type": "code",
   "execution_count": 834,
   "id": "fbaa57c1-90ee-4ac5-bdca-08f2dd0bb8dd",
   "metadata": {},
   "outputs": [],
   "source": [
    "# Eigenvalues of (P')^t NOTE: without multiplication by Dp^-1\n",
    "\n",
    "eigvals = np.array([[q**(k*t) for t in range(l+1)] for k in range(l+1)])\n",
    "eigvals = eigvals\n",
    "\n",
    "coeffs = np.linalg.inv(eigvals)\n",
    "coeffs = torch.tensor(coeffs, dtype=torch.float32).to(output_device)"
   ]
  },
  {
   "cell_type": "code",
   "execution_count": 835,
   "id": "64d776d5-22da-445b-8e7e-fcef8419899b",
   "metadata": {},
   "outputs": [
    {
     "data": {
      "text/plain": [
       "tensor([1.0002, 0.2964, 0.2964, 0.2964, 0.2964, 0.2964, 0.2964, 0.2964, 0.0878,\n",
       "        0.0878, 0.0878, 0.0878, 0.0878, 0.0878, 0.0878, 0.0878, 0.0878, 0.0878,\n",
       "        0.0878, 0.0878, 0.0878, 0.0878, 0.0260, 0.0260, 0.0260, 0.0260, 0.0260,\n",
       "        0.0260, 0.0260, 0.0260, 0.0260, 0.0260, 0.0260, 0.0260, 0.0260, 0.0260,\n",
       "        0.0260, 0.0260], device='cuda:0', grad_fn=<SortBackward0>)"
      ]
     },
     "execution_count": 835,
     "metadata": {},
     "output_type": "execute_result"
    }
   ],
   "source": [
    "get_ev(powers[:,:,3].matmul(Dpi))"
   ]
  },
  {
   "cell_type": "code",
   "execution_count": 836,
   "id": "baffc130-6693-4b59-9c0e-82e61ca78036",
   "metadata": {},
   "outputs": [],
   "source": [
    "matweighted = torch.stack([coeffs[t,1]*powers[:,:,t].matmul(Dpi) for t in range(l+1)])"
   ]
  },
  {
   "cell_type": "code",
   "execution_count": 837,
   "id": "5e3f5238-65f5-4d47-8894-f8bc48756f69",
   "metadata": {},
   "outputs": [
    {
     "data": {
      "text/plain": [
       "torch.Size([4, 64, 64])"
      ]
     },
     "execution_count": 837,
     "metadata": {},
     "output_type": "execute_result"
    }
   ],
   "source": [
    "matweighted.shape"
   ]
  },
  {
   "cell_type": "code",
   "execution_count": 838,
   "id": "b48eef4e-e65d-4a90-84a4-baa9991c0bd9",
   "metadata": {},
   "outputs": [],
   "source": [
    "lincomb = torch.sum(matweighted, 0)"
   ]
  },
  {
   "cell_type": "code",
   "execution_count": 839,
   "id": "92802c02-385a-4a00-9d2d-bf4d077501b3",
   "metadata": {},
   "outputs": [
    {
     "data": {
      "text/plain": [
       "tensor([ 9.9997e-01,  9.9997e-01,  9.9997e-01,  9.9997e-01,  9.9997e-01,\n",
       "         9.9997e-01,  9.9997e-01,  9.9997e-01,  3.3503e-03,  4.7199e-04,\n",
       "         4.7199e-04,  4.7198e-04,  4.7198e-04,  4.7198e-04,  4.7197e-04,\n",
       "         4.7197e-04,  4.7197e-04,  4.7196e-04,  4.7196e-04,  4.7196e-04,\n",
       "         4.7195e-04,  4.7195e-04,  4.7195e-04,  4.7194e-04,  4.7194e-04,\n",
       "         4.7188e-04, -4.7565e-04, -4.7566e-04, -4.7566e-04, -4.7567e-04,\n",
       "        -4.7568e-04, -4.7568e-04, -4.7568e-04, -4.7568e-04, -4.7568e-04,\n",
       "        -4.7569e-04, -4.7569e-04, -4.7569e-04, -4.7569e-04, -4.7570e-04,\n",
       "        -4.7570e-04, -4.7570e-04, -4.7570e-04, -4.7571e-04, -4.7571e-04,\n",
       "        -4.7576e-04], device='cuda:0', grad_fn=<SortBackward0>)"
      ]
     },
     "execution_count": 839,
     "metadata": {},
     "output_type": "execute_result"
    }
   ],
   "source": [
    "get_ev(lincomb)"
   ]
  },
  {
   "cell_type": "code",
   "execution_count": 805,
   "id": "5b5a3db3-28d1-47cf-90a5-db154b633b8b",
   "metadata": {},
   "outputs": [
    {
     "data": {
      "text/plain": [
       "tensor([3.0002, 1.4077, 1.4077, 1.4077, 1.4077, 1.4077, 1.4077, 1.4077, 1.4077,\n",
       "        0.7300, 0.7300, 0.7300, 0.7300, 0.7300, 0.7300, 0.7300, 0.7300, 0.7300,\n",
       "        0.7300, 0.7300, 0.7300, 0.4103, 0.4103, 0.4103, 0.4103, 0.4103, 0.4103,\n",
       "        0.4103, 0.4103, 0.4103, 0.4103, 0.4103, 0.4103], device='cuda:0',\n",
       "       grad_fn=<DivBackward0>)"
      ]
     },
     "execution_count": 805,
     "metadata": {},
     "output_type": "execute_result"
    }
   ],
   "source": [
    "get_ev(powers[:,:,0] + powers[:,:,1] + powers[:,:,2] + powers[:,:,3] )/64"
   ]
  },
  {
   "cell_type": "code",
   "execution_count": 779,
   "id": "9b615fb6-6c50-4285-9e19-4c01b3f0917f",
   "metadata": {},
   "outputs": [
    {
     "data": {
      "text/plain": [
       "array([4.        , 2.40740741, 1.7297668 , 1.41010009])"
      ]
     },
     "execution_count": 779,
     "metadata": {},
     "output_type": "execute_result"
    }
   ],
   "source": [
    "np.sum(eigvals, 0)"
   ]
  },
  {
   "cell_type": "code",
   "execution_count": 825,
   "id": "4eae3c6d-7c00-4dbb-9860-6f121f432f3d",
   "metadata": {},
   "outputs": [
    {
     "data": {
      "text/plain": [
       "tensor([64.0156, 42.6823, 42.6823, 42.6823, 42.6823, 42.6823, 42.6823, 42.6823,\n",
       "        28.4601, 28.4601, 28.4601, 28.4601, 28.4601, 28.4601, 28.4601, 28.4601,\n",
       "        28.4601, 28.4601, 28.4601, 28.4601, 28.4601, 28.4601, 18.9786, 18.9786,\n",
       "        18.9786, 18.9786, 18.9786, 18.9786, 18.9786, 18.9786, 18.9786, 18.9786,\n",
       "        18.9786, 18.9786, 18.9786], device='cuda:0', grad_fn=<SortBackward0>)"
      ]
     },
     "execution_count": 825,
     "metadata": {},
     "output_type": "execute_result"
    }
   ],
   "source": [
    "get_ev((powers[:,:,0] + powers[:,:,1]))"
   ]
  },
  {
   "cell_type": "code",
   "execution_count": 826,
   "id": "7c72b368-8f07-45d7-b9c6-8480427630d1",
   "metadata": {},
   "outputs": [
    {
     "data": {
      "text/plain": [
       "array([2.        , 1.66666667, 1.44444444, 1.2962963 ])"
      ]
     },
     "execution_count": 826,
     "metadata": {},
     "output_type": "execute_result"
    }
   ],
   "source": [
    "eigvals[0] + eigvals[1]"
   ]
  },
  {
   "cell_type": "code",
   "execution_count": null,
   "id": "e42eb745-5e3c-4759-b921-b346c4ff0c94",
   "metadata": {},
   "outputs": [],
   "source": []
  },
  {
   "cell_type": "code",
   "execution_count": 765,
   "id": "3e3e0863-1957-4ef3-a659-d3add9b16713",
   "metadata": {},
   "outputs": [],
   "source": [
    "a = torch.rand(2,3,2)"
   ]
  },
  {
   "cell_type": "code",
   "execution_count": 766,
   "id": "1f16a41f-950b-43c9-9d81-cb8d4ddc38ec",
   "metadata": {},
   "outputs": [
    {
     "data": {
      "text/plain": [
       "tensor([[1.1353, 0.2600],\n",
       "        [1.4475, 1.6111],\n",
       "        [0.9237, 1.2101]])"
      ]
     },
     "execution_count": 766,
     "metadata": {},
     "output_type": "execute_result"
    }
   ],
   "source": [
    "a[0] + a[1]"
   ]
  },
  {
   "cell_type": "code",
   "execution_count": 767,
   "id": "74cbfdea-3679-445f-b969-5f6ff47032f4",
   "metadata": {},
   "outputs": [
    {
     "data": {
      "text/plain": [
       "tensor([[1.1353, 0.2600],\n",
       "        [1.4475, 1.6111],\n",
       "        [0.9237, 1.2101]])"
      ]
     },
     "execution_count": 767,
     "metadata": {},
     "output_type": "execute_result"
    }
   ],
   "source": [
    "torch.sum(a, 0)"
   ]
  },
  {
   "cell_type": "code",
   "execution_count": null,
   "id": "91b6963d-d28b-42bf-89b4-4745d6dcfe26",
   "metadata": {},
   "outputs": [],
   "source": []
  },
  {
   "cell_type": "code",
   "execution_count": null,
   "id": "3e79be27-b1ed-4f78-8533-c29a62632b60",
   "metadata": {},
   "outputs": [],
   "source": []
  },
  {
   "cell_type": "code",
   "execution_count": null,
   "id": "0013d79a-e7f6-4c36-9655-9abb8965f42c",
   "metadata": {},
   "outputs": [],
   "source": []
  },
  {
   "cell_type": "code",
   "execution_count": null,
   "id": "cc305cc9-ceb9-4739-a3f0-1186c4eef847",
   "metadata": {},
   "outputs": [],
   "source": []
  },
  {
   "cell_type": "code",
   "execution_count": null,
   "id": "1e4b7482-3975-4a2d-97e2-b9dc4142cad0",
   "metadata": {},
   "outputs": [],
   "source": []
  },
  {
   "cell_type": "code",
   "execution_count": 730,
   "id": "a2d7d356-1032-4a6c-875d-5eea5e0329cd",
   "metadata": {},
   "outputs": [
    {
     "data": {
      "text/plain": [
       "tensor([1.0000, 0.6667, 0.6667, 0.6667, 0.6667, 0.6667, 0.6667, 0.6667, 0.4445,\n",
       "        0.4445, 0.4445, 0.4445, 0.4445, 0.4445, 0.4445, 0.4445, 0.4445, 0.4445,\n",
       "        0.4445, 0.4445, 0.4445, 0.4445, 0.4445, 0.4445, 0.4445, 0.4445, 0.2963,\n",
       "        0.2963, 0.2963, 0.2963, 0.2963, 0.2963, 0.2963, 0.2963, 0.2963, 0.2963,\n",
       "        0.2963, 0.2963, 0.2963, 0.2963], device='cuda:0',\n",
       "       grad_fn=<SortBackward0>)"
      ]
     },
     "execution_count": 730,
     "metadata": {},
     "output_type": "execute_result"
    }
   ],
   "source": [
    "get_ev(powers[:,:,1].matmul(Dpi))"
   ]
  },
  {
   "cell_type": "code",
   "execution_count": 731,
   "id": "f1632ef0-6ff8-44b4-bdf9-e602a5efafa5",
   "metadata": {},
   "outputs": [
    {
     "data": {
      "text/plain": [
       "tensor([1.0001, 0.4445, 0.4445, 0.4445, 0.4445, 0.4445, 0.4445, 0.1975, 0.1975,\n",
       "        0.1975, 0.1975, 0.1975, 0.1975, 0.1975, 0.1975, 0.1975, 0.1975, 0.1975,\n",
       "        0.1975, 0.0878, 0.0878, 0.0878, 0.0878, 0.0878, 0.0878, 0.0878, 0.0878,\n",
       "        0.0878, 0.0878, 0.0878, 0.0878, 0.0878, 0.0878, 0.0878],\n",
       "       device='cuda:0', grad_fn=<SortBackward0>)"
      ]
     },
     "execution_count": 731,
     "metadata": {},
     "output_type": "execute_result"
    }
   ],
   "source": [
    "get_ev(powers[:,:,2].matmul(Dpi))"
   ]
  },
  {
   "cell_type": "code",
   "execution_count": 718,
   "id": "5cc3f3af-f732-4932-a0d8-0a1e5f5e70b8",
   "metadata": {},
   "outputs": [
    {
     "data": {
      "text/plain": [
       "tensor([128.0000,  71.1112,  71.1111,  71.1111,  71.1111,  71.1111,  71.1111,\n",
       "         71.1111,  71.1111,  41.0865,  41.0864,  41.0864,  41.0864,  41.0864,\n",
       "         41.0864,  41.0864,  41.0864,  41.0864,  41.0864,  41.0864,  41.0864,\n",
       "         24.5816,  24.5816,  24.5816,  24.5816,  24.5816,  24.5816,  24.5816,\n",
       "         24.5816,  24.5816,  24.5816,  24.5816,  24.5816,  24.5816,  24.5816],\n",
       "       device='cuda:0', grad_fn=<SortBackward0>)"
      ]
     },
     "execution_count": 718,
     "metadata": {},
     "output_type": "execute_result"
    }
   ],
   "source": [
    "get_ev(powers[:,:,1] + powers[:,:,2])"
   ]
  },
  {
   "cell_type": "code",
   "execution_count": 724,
   "id": "74aa8374-b7e1-426b-8ccf-123703724efa",
   "metadata": {},
   "outputs": [
    {
     "data": {
      "text/plain": [
       "tensor([-238.4003, -238.4003, -238.4003, -238.4004, -238.4004, -238.4004,\n",
       "        -238.4005, -238.4005, -302.3997, -302.3998, -302.3999, -302.4000,\n",
       "        -302.4000, -302.4000, -302.4001, -302.4001, -302.4001, -302.4002,\n",
       "        -302.4002, -302.4002, -302.4003, -302.4003, -302.4008],\n",
       "       device='cuda:0', grad_fn=<SortBackward0>)"
      ]
     },
     "execution_count": 724,
     "metadata": {},
     "output_type": "execute_result"
    }
   ],
   "source": [
    "get_ev(torch.sum(powers*coeffs[:,1], -1))"
   ]
  },
  {
   "cell_type": "code",
   "execution_count": null,
   "id": "16fd86ff-5119-4495-8205-8c5da217fae5",
   "metadata": {},
   "outputs": [],
   "source": []
  },
  {
   "cell_type": "code",
   "execution_count": null,
   "id": "d9b9241c-df52-4a5a-875e-9c1d089fd5ab",
   "metadata": {},
   "outputs": [],
   "source": []
  },
  {
   "cell_type": "code",
   "execution_count": null,
   "id": "dcbf9b91-08a4-4247-909a-4e520e1a4367",
   "metadata": {},
   "outputs": [],
   "source": []
  },
  {
   "cell_type": "code",
   "execution_count": null,
   "id": "bbc8baca-fb46-447f-8405-5a7c2f55f91d",
   "metadata": {},
   "outputs": [],
   "source": []
  },
  {
   "cell_type": "code",
   "execution_count": null,
   "id": "422001bf-274c-4d2b-b696-6ded7807e820",
   "metadata": {},
   "outputs": [],
   "source": []
  },
  {
   "cell_type": "code",
   "execution_count": null,
   "id": "03782ec5-537c-4fff-be38-025abf4ccabe",
   "metadata": {},
   "outputs": [],
   "source": []
  },
  {
   "cell_type": "markdown",
   "id": "5df131c7-3d10-46a3-ad7a-e662e8b87245",
   "metadata": {},
   "source": [
    "#### Stationary distribution"
   ]
  },
  {
   "cell_type": "code",
   "execution_count": 644,
   "id": "e7ecc19c-c831-4a37-84c4-73dec6f04e9e",
   "metadata": {},
   "outputs": [],
   "source": [
    "ps = torch.flatten(F.softmax(kernel.log_p, 1))\n",
    "\n",
    "\n",
    "pi = seqs1h_test*ps\n",
    "pi[seqs1h_test*ps==0.] = 1\n",
    "pi = torch.prod(pi, 1)\n",
    "\n",
    "Dpi = torch.diag(pi)"
   ]
  },
  {
   "cell_type": "code",
   "execution_count": 653,
   "id": "08905f06-58d9-475a-aa70-a1b504a84885",
   "metadata": {},
   "outputs": [],
   "source": [
    "eigvals = np.array([[q**(k*t) for t in range(l+1)] for k in range(l+1)])\n",
    "# eigvals = scaling_factors*eigvals\n",
    "eigvals = torch.tensor(eigvals, dtype=torch.float32).to(output_device)"
   ]
  },
  {
   "cell_type": "code",
   "execution_count": 654,
   "id": "650c2bd0-cfbd-443f-8fb7-da806766bfaa",
   "metadata": {},
   "outputs": [],
   "source": [
    "coeffs = torch.linalg.inv(eigvals)"
   ]
  },
  {
   "cell_type": "code",
   "execution_count": 655,
   "id": "7ff9e8b3-23eb-407d-ad92-64957f098608",
   "metadata": {
    "tags": []
   },
   "outputs": [
    {
     "data": {
      "text/plain": [
       "tensor([[1.0000, 1.0000, 1.0000, 1.0000],\n",
       "        [1.0000, 0.6667, 0.4444, 0.2963],\n",
       "        [1.0000, 0.4444, 0.1975, 0.0878],\n",
       "        [1.0000, 0.2963, 0.0878, 0.0260]], device='cuda:0')"
      ]
     },
     "execution_count": 655,
     "metadata": {},
     "output_type": "execute_result"
    }
   ],
   "source": [
    "eigvals"
   ]
  },
  {
   "cell_type": "code",
   "execution_count": 656,
   "id": "87fab35b-a89b-4783-b984-a3e412d9a744",
   "metadata": {},
   "outputs": [],
   "source": [
    "power_normed = powers[:,:,1].matmul(Dpi)"
   ]
  },
  {
   "cell_type": "code",
   "execution_count": 658,
   "id": "ae3a6217-28af-4962-a7bc-543d5aaf020f",
   "metadata": {},
   "outputs": [
    {
     "data": {
      "text/plain": [
       "tensor([[11.3906,  1.2656,  1.2656,  ...,  0.0156,  0.0156,  0.0156],\n",
       "        [ 1.2656, 11.3906,  1.2656,  ...,  0.1406,  0.0156,  0.0156],\n",
       "        [ 1.2656,  1.2656, 11.3906,  ...,  0.0156,  0.1406,  0.0156],\n",
       "        ...,\n",
       "        [ 0.0156,  0.1406,  0.0156,  ..., 11.3906,  1.2656,  1.2656],\n",
       "        [ 0.0156,  0.0156,  0.1406,  ...,  1.2656, 11.3906,  1.2656],\n",
       "        [ 0.0156,  0.0156,  0.0156,  ...,  1.2656,  1.2656, 11.3906]],\n",
       "       device='cuda:0', grad_fn=<MmBackward>)"
      ]
     },
     "execution_count": 658,
     "metadata": {},
     "output_type": "execute_result"
    }
   ],
   "source": [
    "power_normed"
   ]
  },
  {
   "cell_type": "code",
   "execution_count": 657,
   "id": "9ed73a00-4b47-44f9-85d9-f71a45b3d76f",
   "metadata": {},
   "outputs": [
    {
     "data": {
      "text/plain": [
       "torch.return_types.eig(\n",
       "eigenvalues=tensor([[27.0000,  0.0000],\n",
       "        [18.0000,  0.0000],\n",
       "        [12.0000,  0.0000],\n",
       "        [18.0000,  0.0000],\n",
       "        [ 8.0000,  0.0000],\n",
       "        [ 8.0000,  0.0000],\n",
       "        [12.0000,  0.0000],\n",
       "        [18.0000,  0.0000],\n",
       "        [18.0000,  0.0000],\n",
       "        [ 8.0000,  0.0000],\n",
       "        [ 8.0000,  0.0000],\n",
       "        [18.0000,  0.0000],\n",
       "        [18.0000,  0.0000],\n",
       "        [ 8.0000,  0.0000],\n",
       "        [ 8.0000,  0.0000],\n",
       "        [12.0000,  0.0000],\n",
       "        [12.0000,  0.0000],\n",
       "        [12.0000,  0.0000],\n",
       "        [18.0000,  0.0000],\n",
       "        [18.0000,  0.0000],\n",
       "        [18.0000,  0.0000],\n",
       "        [ 8.0000,  0.0000],\n",
       "        [ 8.0000,  0.0000],\n",
       "        [12.0000,  0.0000],\n",
       "        [12.0000,  0.0000],\n",
       "        [12.0000,  0.0000],\n",
       "        [12.0000,  0.0000],\n",
       "        [12.0000,  0.0000],\n",
       "        [ 8.0000,  0.0000],\n",
       "        [ 8.0000,  0.0000],\n",
       "        [ 8.0000,  0.0000],\n",
       "        [ 8.0000,  0.0000],\n",
       "        [12.0000,  0.0000],\n",
       "        [12.0000,  0.0000],\n",
       "        [ 8.0000,  0.0000],\n",
       "        [ 8.0000,  0.0000],\n",
       "        [12.0000,  0.0000],\n",
       "        [12.0000,  0.0000],\n",
       "        [ 8.0000,  0.0000],\n",
       "        [ 8.0000,  0.0000],\n",
       "        [12.0000,  0.0000],\n",
       "        [12.0000,  0.0000],\n",
       "        [ 8.0000,  0.0000],\n",
       "        [ 8.0000,  0.0000],\n",
       "        [12.0000,  0.0000],\n",
       "        [12.0000,  0.0000],\n",
       "        [ 8.0000,  0.0000],\n",
       "        [ 8.0000,  0.0000],\n",
       "        [12.0000,  0.0000],\n",
       "        [12.0000,  0.0000],\n",
       "        [12.0000,  0.0000],\n",
       "        [ 8.0000,  0.0000],\n",
       "        [ 8.0000,  0.0000],\n",
       "        [ 8.0000,  0.0000],\n",
       "        [12.0000,  0.0000],\n",
       "        [12.0000,  0.0000],\n",
       "        [ 8.0000,  0.0000],\n",
       "        [ 8.0000,  0.0000],\n",
       "        [12.0000,  0.0000],\n",
       "        [12.0000,  0.0000],\n",
       "        [ 8.0000,  0.0000],\n",
       "        [12.0000,  0.0000],\n",
       "        [12.0000,  0.0000],\n",
       "        [ 8.0000,  0.0000]], device='cuda:0', grad_fn=<EigBackward>),\n",
       "eigenvectors=tensor([], device='cuda:0', grad_fn=<EigBackward>))"
      ]
     },
     "execution_count": 657,
     "metadata": {},
     "output_type": "execute_result"
    }
   ],
   "source": [
    "torch.eig(power_normed)"
   ]
  },
  {
   "cell_type": "markdown",
   "id": "f9d75cff-db2e-4ae2-8873-ba475dd6ffd1",
   "metadata": {},
   "source": [
    "### Test kernel properties"
   ]
  },
  {
   "cell_type": "code",
   "execution_count": 519,
   "id": "ad6acf16-1e3e-43e5-bacb-a91e23becb46",
   "metadata": {},
   "outputs": [],
   "source": [
    "kernel = SkewKernel(alpha, l, odds)\n",
    "kernel = kernel.to(output_device)"
   ]
  },
  {
   "cell_type": "code",
   "execution_count": 520,
   "id": "4b44042e-fcba-4156-9f6e-de56c20d9d7d",
   "metadata": {},
   "outputs": [
    {
     "name": "stderr",
     "output_type": "stream",
     "text": [
      "/scratch/local/46268066/ipykernel_33336/1068271146.py:1: UserWarning: To copy construct from a tensor, it is recommended to use sourceTensor.clone().detach() or sourceTensor.clone().detach().requires_grad_(True), rather than torch.tensor(sourceTensor).\n",
      "  seqs1h_test = torch.tensor(seqs1h_test, dtype=torch.float32)\n"
     ]
    }
   ],
   "source": [
    "seqs1h_test = torch.tensor(seqs1h_test, dtype=torch.float32)"
   ]
  },
  {
   "cell_type": "code",
   "execution_count": 521,
   "id": "c657022a-9685-48b2-8c51-3490ad34840a",
   "metadata": {},
   "outputs": [],
   "source": [
    "Dmat = l - seqs1h_test[:10].matmul(seqs1h_test.t()) "
   ]
  },
  {
   "cell_type": "markdown",
   "id": "479cf2e8-04b7-4d88-bd53-39fcd7cfae8a",
   "metadata": {},
   "source": [
    "#### Test on exponential lambdas"
   ]
  },
  {
   "cell_type": "code",
   "execution_count": 888,
   "id": "ff039059-0607-4f5e-838b-f65faec017b0",
   "metadata": {},
   "outputs": [],
   "source": [
    "lambdas = torch.exp(-1.*torch.arange(l+1).to(output_device))"
   ]
  },
  {
   "cell_type": "code",
   "execution_count": 906,
   "id": "74146584-0f9e-45b2-9bc3-f34b5a29aa80",
   "metadata": {},
   "outputs": [],
   "source": [
    "weights = torch.matmul(coeffs.to(output_device), lambdas)"
   ]
  },
  {
   "cell_type": "code",
   "execution_count": 917,
   "id": "4b360959-3006-4be2-916b-0b7b37a18417",
   "metadata": {},
   "outputs": [],
   "source": [
    "ker = torch.sum(weights*powers,-1)"
   ]
  },
  {
   "cell_type": "code",
   "execution_count": 933,
   "id": "7292d821-eba7-44da-bd86-6c181a18bc8c",
   "metadata": {},
   "outputs": [
    {
     "data": {
      "image/png": "[encoded data removed]",
      "text/plain": [
       "<Figure size 432x288 with 1 Axes>"
      ]
     },
     "metadata": {
      "needs_background": "light"
     },
     "output_type": "display_data"
    }
   ],
   "source": [
    "i=2\n",
    "rho = torch.tensor([ker[i, Dmat[i] == d].unique()[0] for d in range(l+1)]).detach().cpu().numpy()\n",
    "rho /= rho[0]\n",
    "\n",
    "from matplotlib import pyplot as plt\n",
    "plt.plot(rho)\n",
    "plt.show()"
   ]
  },
  {
   "cell_type": "code",
   "execution_count": 934,
   "id": "273d2d16-1bb2-41fa-a320-6bf5def9477b",
   "metadata": {},
   "outputs": [
    {
     "data": {
      "text/plain": [
       "array([0.02713223, 3.3279104 , 3.3279085 , 3.3279095 ], dtype=float32)"
      ]
     },
     "execution_count": 934,
     "metadata": {},
     "output_type": "execute_result"
    }
   ],
   "source": [
    "np.roll(rho,1)/rho"
   ]
  },
  {
   "cell_type": "markdown",
   "id": "991511ea-3f90-4b21-8aba-f7ac5cac7568",
   "metadata": {},
   "source": [
    "#### Test on arbitrary lambdas"
   ]
  },
  {
   "cell_type": "code",
   "execution_count": 863,
   "id": "993d8b0b-aea5-48c7-9524-61b3afd9caee",
   "metadata": {},
   "outputs": [],
   "source": [
    "k=0\n",
    "\n",
    "log_lda = -200*torch.ones(l+1)\n",
    "log_lda[k] = 1.\n",
    "\n",
    "kernel.raw_log_lda = torch.nn.Parameter(log_lda)\n",
    "kernel = kernel.to(output_device)"
   ]
  },
  {
   "cell_type": "code",
   "execution_count": 864,
   "id": "60660820-7cd6-4650-a772-ed5299e3e521",
   "metadata": {},
   "outputs": [
    {
     "data": {
      "image/png": "[encoded data removed]",
      "text/plain": [
       "<Figure size 432x288 with 1 Axes>"
      ]
     },
     "metadata": {
      "needs_background": "light"
     },
     "output_type": "display_data"
    }
   ],
   "source": [
    "i=1\n",
    "ker = kernel(seqs1h_test[i].unsqueeze(0), seqs1h_test).evaluate()\n",
    "rho = torch.tensor([ker[0, Dmat[i] == d].unique()[0] for d in range(l+1)]).detach().cpu().numpy()\n",
    "# rho /= rho[0]\n",
    "\n",
    "from matplotlib import pyplot as plt\n",
    "plt.plot(rho)\n",
    "plt.show()"
   ]
  },
  {
   "cell_type": "code",
   "execution_count": 865,
   "id": "909fe9eb-a24b-4d3a-8415-b23ae2d335ea",
   "metadata": {},
   "outputs": [
    {
     "data": {
      "text/plain": [
       "array([0.7310791 , 0.7310648 , 0.73105943, 0.73105866], dtype=float32)"
      ]
     },
     "execution_count": 865,
     "metadata": {},
     "output_type": "execute_result"
    }
   ],
   "source": [
    "rho"
   ]
  },
  {
   "cell_type": "code",
   "execution_count": 528,
   "id": "a0d4f515-15c5-4156-8b1b-7c2d0d690fd9",
   "metadata": {},
   "outputs": [
    {
     "data": {
      "text/plain": [
       "array([9.8773837e-04, 9.4165964e+00, 9.8811226e+00, 1.0880725e+01],\n",
       "      dtype=float32)"
      ]
     },
     "execution_count": 528,
     "metadata": {},
     "output_type": "execute_result"
    }
   ],
   "source": [
    "np.roll(rho,1)/rho"
   ]
  },
  {
   "cell_type": "code",
   "execution_count": null,
   "id": "76247d7a-be6f-46f9-92b2-8f8a17f0a5ad",
   "metadata": {},
   "outputs": [],
   "source": []
  }
 ],
 "metadata": {
  "kernelspec": {
   "display_name": "PyTorch-1.7.1",
   "language": "python",
   "name": "pytorch-1.7.1"
  },
  "language_info": {
   "codemirror_mode": {
    "name": "ipython",
    "version": 3
   },
   "file_extension": ".py",
   "mimetype": "text/x-python",
   "name": "python",
   "nbconvert_exporter": "python",
   "pygments_lexer": "ipython3",
   "version": "3.8.6"
  }
 },
 "nbformat": 4,
 "nbformat_minor": 5
}
