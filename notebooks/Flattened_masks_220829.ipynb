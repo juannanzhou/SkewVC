{
 "cells": [
  {
   "cell_type": "code",
   "execution_count": 16,
   "id": "9b45489d-df00-4a05-bde8-a8e2e9cc75a6",
   "metadata": {},
   "outputs": [
    {
     "data": {
      "text/plain": [
       "2"
      ]
     },
     "execution_count": 16,
     "metadata": {},
     "output_type": "execute_result"
    }
   ],
   "source": [
    "1*2"
   ]
  },
  {
   "cell_type": "code",
   "execution_count": 17,
   "id": "4a12c9ee-0360-4d29-a00c-6ed5c286c550",
   "metadata": {},
   "outputs": [],
   "source": [
    "import itertools\n",
    "import torch\n",
    "import torch.nn.functional as F\n",
    "import numpy as np"
   ]
  },
  {
   "cell_type": "code",
   "execution_count": 18,
   "id": "dc34532b-fb33-4c2e-a278-dcc7ba17a999",
   "metadata": {},
   "outputs": [
    {
     "name": "stdout",
     "output_type": "stream",
     "text": [
      "Planning to run on 2 GPUs.\n"
     ]
    }
   ],
   "source": [
    "n_devices = torch.cuda.device_count()\n",
    "output_device = torch.device('cuda:0')\n",
    "print('Planning to run on {} GPUs.'.format(n_devices))"
   ]
  },
  {
   "cell_type": "code",
   "execution_count": 19,
   "id": "b45e7990-91ae-40e7-ad72-7e3ddc4427d9",
   "metadata": {},
   "outputs": [],
   "source": [
    "alpha = 4\n",
    "l = 8\n",
    "alphabet = list(range(alpha))"
   ]
  },
  {
   "cell_type": "code",
   "execution_count": 37,
   "id": "0ca2e93f-f744-430a-b950-445086ef0a60",
   "metadata": {},
   "outputs": [],
   "source": [
    "seqs = list(itertools.product(alphabet, repeat=l))\n",
    "seqs = torch.tensor(seqs).to(output_device)"
   ]
  },
  {
   "cell_type": "code",
   "execution_count": 42,
   "id": "e6735693-afd5-40cc-8378-0708d7f62b88",
   "metadata": {},
   "outputs": [],
   "source": [
    "seqs1h = torch.flatten(F.one_hot(seqs), start_dim=1).to(output_device)"
   ]
  },
  {
   "cell_type": "code",
   "execution_count": 43,
   "id": "df3d777f-76ba-4624-b247-c29c3e87a095",
   "metadata": {},
   "outputs": [],
   "source": [
    "x1 = seqs1h[:1000]\n",
    "x2 = seqs1h[1000:2000]"
   ]
  },
  {
   "cell_type": "code",
   "execution_count": 45,
   "id": "eb5efd81-fc42-4fdc-ba8d-b8ab956a4196",
   "metadata": {},
   "outputs": [],
   "source": [
    "masks = torch.mul(torch.unsqueeze(x1, 0), torch.unsqueeze(x2, 1))"
   ]
  },
  {
   "cell_type": "code",
   "execution_count": 46,
   "id": "2af8cb82-24dd-46b9-a65d-8bd2308dc3c0",
   "metadata": {},
   "outputs": [
    {
     "data": {
      "text/plain": [
       "torch.Size([1000, 1000, 32])"
      ]
     },
     "execution_count": 46,
     "metadata": {},
     "output_type": "execute_result"
    }
   ],
   "source": [
    "masks.shape"
   ]
  },
  {
   "cell_type": "code",
   "execution_count": 85,
   "id": "6dd38724-0cd0-428b-8b60-7b258667b0a7",
   "metadata": {},
   "outputs": [],
   "source": [
    "ps = torch.softmax(-torch.rand([l, alpha]), axis=1)"
   ]
  },
  {
   "cell_type": "code",
   "execution_count": 59,
   "id": "673d2ada-c941-4bf5-8614-133c8bd0bff9",
   "metadata": {},
   "outputs": [],
   "source": [
    "# prob no mutation at time 1\n",
    "q = 1 - 1/l"
   ]
  },
  {
   "cell_type": "code",
   "execution_count": 87,
   "id": "0faaf5e9-4b2c-4916-ad3b-48133e8e290b",
   "metadata": {},
   "outputs": [],
   "source": [
    "odds = torch.tensor([q**t/(1 - q**t) for t in range(1, l+1)])"
   ]
  },
  {
   "cell_type": "code",
   "execution_count": 88,
   "id": "d3c74e0c-f4c2-4d1a-8ddc-4945bd203b5e",
   "metadata": {},
   "outputs": [],
   "source": [
    "rates = odds.unsqueeze(1).unsqueeze(-1)  + torch.unsqueeze(ps, 0)\n",
    "rates = rates/ps\n",
    "rates = rates.to(output_device)\n",
    "rates = torch.flatten(rates, start_dim=1)"
   ]
  },
  {
   "cell_type": "code",
   "execution_count": 89,
   "id": "55292bae-0231-4f4a-a583-1721a2de7c26",
   "metadata": {},
   "outputs": [
    {
     "data": {
      "text/plain": [
       "torch.Size([8, 32])"
      ]
     },
     "execution_count": 89,
     "metadata": {},
     "output_type": "execute_result"
    }
   ],
   "source": [
    "rates.shape"
   ]
  },
  {
   "cell_type": "code",
   "execution_count": 83,
   "id": "0d242529-6735-4bdb-8420-068eeed15013",
   "metadata": {},
   "outputs": [
    {
     "data": {
      "text/plain": [
       "torch.Size([1000, 1000, 32])"
      ]
     },
     "execution_count": 83,
     "metadata": {},
     "output_type": "execute_result"
    }
   ],
   "source": [
    "masks.shape"
   ]
  },
  {
   "cell_type": "code",
   "execution_count": 117,
   "id": "17d2bf54-ef0f-4b78-9885-d945f5ff9f30",
   "metadata": {
    "tags": []
   },
   "outputs": [
    {
     "data": {
      "text/plain": [
       "torch.Size([1000, 1000, 8, 32])"
      ]
     },
     "execution_count": 117,
     "metadata": {},
     "output_type": "execute_result"
    }
   ],
   "source": [
    "out = torch.mul(masks.unsqueeze(2), rates)\n",
    "\n",
    "out[out==0.] = 1.\n",
    "\n",
    "out.shape"
   ]
  },
  {
   "cell_type": "code",
   "execution_count": 118,
   "id": "4bb598b6-1f7e-4671-a551-84f99131f4de",
   "metadata": {},
   "outputs": [],
   "source": [
    "powers_nz = torch.prod(out, -1)\n",
    "power_0 = F.relu(torch.sum(masks, -1) - l + 1)\n",
    "powers = torch.cat([power_0.unsqueeze(-1), powers_nz], dim=-1)\n"
   ]
  },
  {
   "cell_type": "code",
   "execution_count": 119,
   "id": "d606bf2c-c0a2-4754-8902-14d5a89ced94",
   "metadata": {},
   "outputs": [
    {
     "data": {
      "text/plain": [
       "torch.Size([1000, 1000, 9])"
      ]
     },
     "execution_count": 119,
     "metadata": {},
     "output_type": "execute_result"
    }
   ],
   "source": [
    "powers.shape"
   ]
  },
  {
   "cell_type": "code",
   "execution_count": null,
   "id": "05331574-712d-4349-a25d-29b4731d7c5e",
   "metadata": {},
   "outputs": [],
   "source": []
  },
  {
   "cell_type": "code",
   "execution_count": null,
   "id": "82e1dfa3-3385-44b6-9392-38b77435abc5",
   "metadata": {},
   "outputs": [],
   "source": []
  },
  {
   "cell_type": "code",
   "execution_count": null,
   "id": "58aa7724-7072-4220-9fbf-6db5e9f30a83",
   "metadata": {},
   "outputs": [],
   "source": []
  },
  {
   "cell_type": "code",
   "execution_count": null,
   "id": "3a87595f-b1f6-4d7f-963b-6ebeeffa37a8",
   "metadata": {},
   "outputs": [],
   "source": []
  },
  {
   "cell_type": "code",
   "execution_count": 108,
   "id": "bf28a8cb-b349-49c9-bb55-3b50077de771",
   "metadata": {
    "tags": []
   },
   "outputs": [
    {
     "name": "stderr",
     "output_type": "stream",
     "text": [
      "/scratch/local/46264634/ipykernel_54431/1816814007.py:1: UserWarning: Implicit dimension choice for softmax has been deprecated. Change the call to include dim=X as an argument.\n",
      "  weights = F.softmax(torch.randn(8)).to(output_device)\n"
     ]
    }
   ],
   "source": [
    "weights = F.softmax(torch.randn(8)).to(output_device)"
   ]
  },
  {
   "cell_type": "code",
   "execution_count": 81,
   "id": "ed3d08f0-717c-4dfe-8cc4-0358bba24776",
   "metadata": {},
   "outputs": [
    {
     "data": {
      "text/plain": [
       "tensor([[1.9903e+05, 8.1533e+03, 8.1533e+03,  ..., 1.3488e+08, 1.3488e+08,\n",
       "         1.3488e+08],\n",
       "        [8.1533e+03, 1.7821e+05, 8.1533e+03,  ..., 3.2790e+09, 1.3488e+08,\n",
       "         1.3488e+08],\n",
       "        [8.1533e+03, 8.1533e+03, 3.0613e+05,  ..., 1.3488e+08, 5.6442e+09,\n",
       "         1.3488e+08],\n",
       "        ...,\n",
       "        [5.7072e+03, 1.2455e+05, 5.7072e+03,  ..., 2.6539e+06, 1.1432e+05,\n",
       "         1.1432e+05],\n",
       "        [5.7072e+03, 5.7072e+03, 2.1395e+05,  ..., 1.1432e+05, 4.5643e+06,\n",
       "         1.1432e+05],\n",
       "        [5.7072e+03, 5.7072e+03, 5.7072e+03,  ..., 1.1432e+05, 1.1432e+05,\n",
       "         2.8883e+06]], device='cuda:0')"
      ]
     },
     "execution_count": 81,
     "metadata": {},
     "output_type": "execute_result"
    }
   ],
   "source": [
    "# construct Wks\n",
    "torch.sum(torch.mul(powers, weights), -1)"
   ]
  },
  {
   "cell_type": "code",
   "execution_count": 132,
   "id": "547d20a2-0ab5-4a4e-ad7f-eeee68db1b83",
   "metadata": {},
   "outputs": [],
   "source": [
    "scaling_factors = np.array([(1 - q**t)**l for t in range(l+1)])\n",
    "scaling_factors[0] = 1\n",
    "eigvals = np.array([[np.exp(-k*t) for t in range(l+1)] for k in range(l+1)])\n",
    "eigvals = eigvals*scaling_factors"
   ]
  },
  {
   "cell_type": "code",
   "execution_count": 133,
   "id": "d4ffc113-852a-4213-bf2e-01d8511acf80",
   "metadata": {},
   "outputs": [],
   "source": [
    "t = 1"
   ]
  },
  {
   "cell_type": "code",
   "execution_count": 134,
   "id": "dc0239a6-aed6-4751-9def-7a5810c29570",
   "metadata": {},
   "outputs": [
    {
     "data": {
      "text/plain": [
       "array([5.96046448e-08, 2.19273234e-08, 8.06661148e-09, 2.96754052e-09,\n",
       "       1.09169715e-09, 4.01612937e-10, 1.47745143e-10, 5.43524006e-11,\n",
       "       1.99951308e-11])"
      ]
     },
     "execution_count": 134,
     "metadata": {},
     "output_type": "execute_result"
    }
   ],
   "source": [
    "scaling_factors[t]*np.array([np.exp(-k*t) for k in range(l+1)])"
   ]
  },
  {
   "cell_type": "code",
   "execution_count": 135,
   "id": "cd0e5606-8201-4626-bae3-914f4aadcab0",
   "metadata": {},
   "outputs": [
    {
     "data": {
      "text/plain": [
       "array([5.96046448e-08, 2.19273234e-08, 8.06661148e-09, 2.96754052e-09,\n",
       "       1.09169715e-09, 4.01612937e-10, 1.47745143e-10, 5.43524006e-11,\n",
       "       1.99951308e-11])"
      ]
     },
     "execution_count": 135,
     "metadata": {},
     "output_type": "execute_result"
    }
   ],
   "source": [
    "eigvals[:, 1]"
   ]
  },
  {
   "cell_type": "code",
   "execution_count": 218,
   "id": "e42f790d-5dbc-42ce-bdc5-aedf3ca80747",
   "metadata": {},
   "outputs": [],
   "source": [
    "coeffs = np.linalg.inv(eigvals)\n",
    "coeffs = torch.tensor(coeffs, dtype=torch.float32).to(output_device)"
   ]
  },
  {
   "cell_type": "markdown",
   "id": "3e139451-e925-4024-8bc6-35129a782041",
   "metadata": {},
   "source": [
    "### Kernel"
   ]
  },
  {
   "cell_type": "code",
   "execution_count": 14,
   "id": "2ee08a20-c4ad-4620-9e83-759754a9601f",
   "metadata": {},
   "outputs": [],
   "source": [
    "import gpytorch\n",
    "from gpytorch import settings\n",
    "from gpytorch.constraints import Positive\n",
    "from gpytorch.lazy import LazyEvaluatedKernelTensor, ZeroLazyTensor, delazify, lazify\n",
    "from gpytorch.models import exact_prediction_strategies\n",
    "from gpytorch.module import Module\n",
    "from gpytorch.utils.broadcasting import _mul_broadcast_shape"
   ]
  },
  {
   "cell_type": "code",
   "execution_count": 15,
   "id": "6a81f86c-3701-4bf4-96c1-f80b3384e07d",
   "metadata": {},
   "outputs": [],
   "source": [
    "odds = torch.tensor([q**t/(1 - q**t) for t in range(1, l+1)]).to(output_device)"
   ]
  },
  {
   "cell_type": "code",
   "execution_count": 16,
   "id": "94098523-49e6-4406-9aff-9dc8bea9312b",
   "metadata": {},
   "outputs": [],
   "source": [
    "from gpytorch.constraints import Positive\n",
    "from gpytorch.constraints import LessThan\n",
    "\n",
    "class SkewKernel(gpytorch.kernels.Kernel):\n",
    "    \"\"\"Diploid kernel\"\"\"\n",
    "\n",
    "    is_stationary = True\n",
    "\n",
    "    # We will register the parameter when initializing the kernel\n",
    "    def __init__(self, alpha, l, odds,\n",
    "                log_lda_prior=None, log_lda_constraint=None, \n",
    "                log_p_prior=None, log_p_constraint=None,\n",
    "                **kwargs):\n",
    "        super().__init__(**kwargs)\n",
    "\n",
    "        # register the raw parameter\n",
    "        self.register_parameter(\n",
    "          name='raw_log_p', \n",
    "          parameter=torch.nn.Parameter(torch.zeros(*self.batch_shape, l, alpha))\n",
    "        )\n",
    "\n",
    "        self.register_parameter(\n",
    "          name='raw_log_lda', \n",
    "          parameter=torch.nn.Parameter(torch.zeros(*self.batch_shape, l+1))\n",
    "        )\n",
    "\n",
    "        # set the parameter constraint to be positive, when nothing is specified\n",
    "        if log_lda_constraint is None:\n",
    "          log_lda_constraint = LessThan(upper_bound=0.)\n",
    "\n",
    "        if log_p_constraint is None:\n",
    "          log_p_constraint = LessThan(upper_bound=0.)\n",
    "\n",
    "        # register the constraint\n",
    "        self.register_constraint(\"raw_log_lda\", log_lda_constraint)\n",
    "        self.register_constraint(\"raw_log_p\", log_p_constraint)\n",
    "\n",
    "\n",
    "    # now set up the 'actual' paramter\n",
    "    @property\n",
    "    def log_lda(self):\n",
    "      # when accessing the parameter, apply the constraint transform\n",
    "      return self.raw_log_lda_constraint.transform(self.raw_log_lda)\n",
    "\n",
    "    @property\n",
    "    def log_p(self):\n",
    "      # when accessing the parameter, apply the constraint transform\n",
    "      return self.raw_log_p_constraint.transform(self.raw_log_p)\n",
    "\n",
    "    @log_lda.setter\n",
    "    def log_lda(self, value):\n",
    "      return self._set_log_lda(value)\n",
    "\n",
    "    @log_p.setter\n",
    "    def log_p(self, value):\n",
    "      return self._set_log_p(value)\n",
    "\n",
    "\n",
    "    def forward(self, x1, x2, **params):\n",
    "        # construct masks used for calculate rates\n",
    "        masks = torch.mul(torch.unsqueeze(x1, 0), torch.unsqueeze(x2, 1))\n",
    "        ps = torch.softmax(self.log_p, axis=1)\n",
    "\n",
    "        rates = odds.unsqueeze(1).unsqueeze(-1) + torch.unsqueeze(ps, 0)\n",
    "        rates = rates/ps\n",
    "        rates = rates.to(output_device)\n",
    "\n",
    "        out = torch.mul(masks.unsqueeze(2), rates)\n",
    "        out = torch.flatten(out, start_dim=3)\n",
    "\n",
    "        out[out==0.] = 1.\n",
    "\n",
    "        powers_nz = torch.prod(out, -1)\n",
    "        power_0 = F.relu(torch.sum(torch.flatten(masks, start_dim=-2), -1) - l + 1)\n",
    "        powers = torch.cat([power_0.unsqueeze(-1), powers_nz], dim=-1)\n",
    "\n",
    "        weights = torch.matmul(coeffs.to(output_device), torch.exp(self.log_lda))\n",
    "\n",
    "        return torch.sum(torch.mul(powers, weights), -1)"
   ]
  },
  {
   "cell_type": "code",
   "execution_count": 482,
   "id": "d4bdf4f4-ea7d-4bb1-b396-6d6825781394",
   "metadata": {},
   "outputs": [],
   "source": [
    "kernel = SkewKernel(alpha, l, odds)\n",
    "kernel = kernel.to(output_device)"
   ]
  },
  {
   "cell_type": "code",
   "execution_count": 483,
   "id": "261b44a3-d8a6-4a08-8063-63c0b9fbb713",
   "metadata": {},
   "outputs": [],
   "source": [
    "kernel.raw_log_lda = torch.nn.Parameter(torch.cat((torch.tensor([-100.]), -torch.arange(l))).to(output_device))"
   ]
  },
  {
   "cell_type": "code",
   "execution_count": 491,
   "id": "76a923ae-72eb-4be8-b8a1-39fa221f8689",
   "metadata": {},
   "outputs": [
    {
     "data": {
      "text/plain": [
       "tensor([0, 1, 2, 3, 4, 5, 6, 7, 8], device='cuda:0')"
      ]
     },
     "execution_count": 491,
     "metadata": {},
     "output_type": "execute_result"
    }
   ],
   "source": [
    "torch.arange(l+1).to(output_device)"
   ]
  },
  {
   "cell_type": "code",
   "execution_count": 497,
   "id": "7cab301e-722f-420d-a95d-0ba35a0dd8b4",
   "metadata": {},
   "outputs": [],
   "source": [
    "kernel.raw_log_lda = torch.nn.Parameter(-1.*torch.arange(l+1).to(output_device))"
   ]
  },
  {
   "cell_type": "code",
   "execution_count": 537,
   "id": "a523b333-9371-4ba1-bcb7-27a16834d55a",
   "metadata": {},
   "outputs": [],
   "source": [
    "ker = kernel.mask(x1, x1)"
   ]
  },
  {
   "cell_type": "code",
   "execution_count": 538,
   "id": "1d7764f5-213a-4ade-a811-4696ff575d23",
   "metadata": {},
   "outputs": [
    {
     "data": {
      "text/plain": [
       "tensor([[8.3926e+18, 2.8939e+17, 2.8939e+17,  ..., 4.0888e+11, 4.0888e+11,\n",
       "         4.0888e+11],\n",
       "        [2.8939e+17, 8.3926e+18, 2.8939e+17,  ..., 1.1862e+13, 4.0888e+11,\n",
       "         4.0888e+11],\n",
       "        [2.8939e+17, 2.8939e+17, 8.3926e+18,  ..., 4.0888e+11, 1.1862e+13,\n",
       "         4.0888e+11],\n",
       "        ...,\n",
       "        [4.0888e+11, 1.1862e+13, 4.0888e+11,  ..., 8.3926e+18, 2.8939e+17,\n",
       "         2.8939e+17],\n",
       "        [4.0888e+11, 4.0888e+11, 1.1862e+13,  ..., 2.8939e+17, 8.3926e+18,\n",
       "         2.8939e+17],\n",
       "        [4.0888e+11, 4.0888e+11, 4.0888e+11,  ..., 2.8939e+17, 2.8939e+17,\n",
       "         8.3926e+18]], device='cuda:0', grad_fn=<SumBackward1>)"
      ]
     },
     "execution_count": 538,
     "metadata": {},
     "output_type": "execute_result"
    }
   ],
   "source": [
    "ker"
   ]
  },
  {
   "cell_type": "code",
   "execution_count": 539,
   "id": "f88b42b7-0071-49e0-9752-37e3dfb5782b",
   "metadata": {},
   "outputs": [],
   "source": [
    "rho = np.flip(ker.unique().detach().cpu().numpy())"
   ]
  },
  {
   "cell_type": "code",
   "execution_count": 540,
   "id": "37aea0a6-a2fa-4cc4-a458-8fc5deaeabf8",
   "metadata": {},
   "outputs": [
    {
     "data": {
      "text/plain": [
       "array([4.8719198e-08, 2.9000614e+01, 2.9001265e+01, 2.9002600e+01,\n",
       "       2.9005327e+01, 2.9010887e+01], dtype=float32)"
      ]
     },
     "execution_count": 540,
     "metadata": {},
     "output_type": "execute_result"
    }
   ],
   "source": [
    "# rho is exponential\n",
    "np.roll(rho, 1)/rho"
   ]
  },
  {
   "cell_type": "code",
   "execution_count": 541,
   "id": "cf1988d3-912d-44bf-8ad1-d0bfe224a97a",
   "metadata": {},
   "outputs": [
    {
     "data": {
      "text/plain": [
       "[<matplotlib.lines.Line2D at 0x2add94c71b50>]"
      ]
     },
     "execution_count": 541,
     "metadata": {},
     "output_type": "execute_result"
    },
    {
     "data": {
      "image/png": "[encoded data removed]",
      "text/plain": [
       "<Figure size 432x288 with 1 Axes>"
      ]
     },
     "metadata": {
      "needs_background": "light"
     },
     "output_type": "display_data"
    }
   ],
   "source": [
    "from matplotlib import pyplot as plt\n",
    "plt.plot(rho)"
   ]
  },
  {
   "cell_type": "code",
   "execution_count": 488,
   "id": "5dc1af40-c585-4097-ab20-0c08bb90b9ff",
   "metadata": {},
   "outputs": [],
   "source": [
    "weights = torch.zeros(l+1).to(output_device)"
   ]
  },
  {
   "cell_type": "code",
   "execution_count": 514,
   "id": "0169eb7d-9560-429d-893d-4a0b42f147a5",
   "metadata": {},
   "outputs": [
    {
     "name": "stdout",
     "output_type": "stream",
     "text": [
      "--2022-08-25 14:44:46--  https://raw.githubusercontent.com/davidmccandlish/vcregression/master/vcregression/data/Smn1/smn1data.csv\n",
      "Resolving raw.githubusercontent.com (raw.githubusercontent.com)... 185.199.111.133, 185.199.108.133, 185.199.110.133, ...\n",
      "Connecting to raw.githubusercontent.com (raw.githubusercontent.com)|185.199.111.133|:443... connected.\n",
      "HTTP request sent, awaiting response... 200 OK\n",
      "Length: 1156484 (1.1M) [text/plain]\n",
      "Saving to: ‘smn1data.csv’\n",
      "\n",
      "100%[======================================>] 1,156,484   --.-K/s   in 0.08s   \n",
      "\n",
      "2022-08-25 14:44:46 (13.5 MB/s) - ‘smn1data.csv’ saved [1156484/1156484]\n",
      "\n"
     ]
    }
   ],
   "source": [
    "!wget https://raw.githubusercontent.com/davidmccandlish/vcregression/master/vcregression/data/Smn1/smn1data.csv"
   ]
  },
  {
   "cell_type": "code",
   "execution_count": 518,
   "id": "ee2af21a-4bec-44fb-9ac3-4a2f58c1d95f",
   "metadata": {},
   "outputs": [],
   "source": [
    "import pandas as pd\n",
    "dat = pd.read_csv(\"smn1data.csv\", header=None)"
   ]
  },
  {
   "cell_type": "code",
   "execution_count": 524,
   "id": "cb8b3789-933d-43ea-b17c-905505e94802",
   "metadata": {},
   "outputs": [],
   "source": [
    "dat = dat.rename(columns={0:\"seq\", 1:\"psi\", 2:\"std\"})"
   ]
  },
  {
   "cell_type": "code",
   "execution_count": 530,
   "id": "8102538d-a75e-4fcd-947b-0c222a6b5eda",
   "metadata": {},
   "outputs": [
    {
     "data": {
      "text/plain": [
       "0        GAACAUGU\n",
       "1        AUUUGUGG\n",
       "2        CGAUACGU\n",
       "3        CAUCUUUU\n",
       "4        AGGCCAAG\n",
       "           ...   \n",
       "24581    UUAUAUCC\n",
       "24582    GGGCCCCG\n",
       "24583    CGGUCGAU\n",
       "24584    AUUUGAAG\n",
       "24585    UUUUCUUC\n",
       "Name: seq, Length: 24586, dtype: object"
      ]
     },
     "execution_count": 530,
     "metadata": {},
     "output_type": "execute_result"
    }
   ],
   "source": [
    "dat.seq"
   ]
  },
  {
   "cell_type": "code",
   "execution_count": null,
   "id": "96c0f25f-408b-4d19-b80b-06efca5ee289",
   "metadata": {},
   "outputs": [],
   "source": [
    "from torchtext.data.utils import get_tokenizer\n",
    "corpus = [\"The cat sat the mat\", \"The dog ate my homework\"]\n",
    "tokenizer = get_tokenizer(\"basic_english\")\n",
    "tokens = [tokenizer(doc) for doc in corpus]"
   ]
  },
  {
   "cell_type": "code",
   "execution_count": 533,
   "id": "02cd7cb6-2e3c-4d5e-bc32-5de197353508",
   "metadata": {},
   "outputs": [],
   "source": [
    "import tokenize"
   ]
  },
  {
   "cell_type": "code",
   "execution_count": 535,
   "id": "fc3acf19-2d98-4fb8-90ba-f47dcea97743",
   "metadata": {},
   "outputs": [
    {
     "ename": "TypeError",
     "evalue": "'str' object is not callable",
     "output_type": "error",
     "traceback": [
      "\u001b[0;31m---------------------------------------------------------------------------\u001b[0m",
      "\u001b[0;31mTypeError\u001b[0m                                 Traceback (most recent call last)",
      "\u001b[0;32m/scratch/local/45805718/ipykernel_69444/3670469475.py\u001b[0m in \u001b[0;36m<module>\u001b[0;34m\u001b[0m\n\u001b[0;32m----> 1\u001b[0;31m \u001b[0mtokenize\u001b[0m\u001b[0;34m.\u001b[0m\u001b[0mtokenize\u001b[0m\u001b[0;34m(\u001b[0m\u001b[0;34m\"ABC\"\u001b[0m\u001b[0;34m)\u001b[0m\u001b[0;34m\u001b[0m\u001b[0;34m\u001b[0m\u001b[0m\n\u001b[0m",
      "\u001b[0;32m/apps/pytorch/1.8.1/lib/python3.9/tokenize.py\u001b[0m in \u001b[0;36mtokenize\u001b[0;34m(readline)\u001b[0m\n\u001b[1;32m    421\u001b[0m     \u001b[0mwhich\u001b[0m \u001b[0mtells\u001b[0m \u001b[0myou\u001b[0m \u001b[0mwhich\u001b[0m \u001b[0mencoding\u001b[0m \u001b[0mwas\u001b[0m \u001b[0mused\u001b[0m \u001b[0mto\u001b[0m \u001b[0mdecode\u001b[0m \u001b[0mthe\u001b[0m \u001b[0mbytes\u001b[0m \u001b[0mstream\u001b[0m\u001b[0;34m.\u001b[0m\u001b[0;34m\u001b[0m\u001b[0;34m\u001b[0m\u001b[0m\n\u001b[1;32m    422\u001b[0m     \"\"\"\n\u001b[0;32m--> 423\u001b[0;31m     \u001b[0mencoding\u001b[0m\u001b[0;34m,\u001b[0m \u001b[0mconsumed\u001b[0m \u001b[0;34m=\u001b[0m \u001b[0mdetect_encoding\u001b[0m\u001b[0;34m(\u001b[0m\u001b[0mreadline\u001b[0m\u001b[0;34m)\u001b[0m\u001b[0;34m\u001b[0m\u001b[0;34m\u001b[0m\u001b[0m\n\u001b[0m\u001b[1;32m    424\u001b[0m     \u001b[0mempty\u001b[0m \u001b[0;34m=\u001b[0m \u001b[0m_itertools\u001b[0m\u001b[0;34m.\u001b[0m\u001b[0mrepeat\u001b[0m\u001b[0;34m(\u001b[0m\u001b[0;34mb\"\"\u001b[0m\u001b[0;34m)\u001b[0m\u001b[0;34m\u001b[0m\u001b[0;34m\u001b[0m\u001b[0m\n\u001b[1;32m    425\u001b[0m     \u001b[0mrl_gen\u001b[0m \u001b[0;34m=\u001b[0m \u001b[0m_itertools\u001b[0m\u001b[0;34m.\u001b[0m\u001b[0mchain\u001b[0m\u001b[0;34m(\u001b[0m\u001b[0mconsumed\u001b[0m\u001b[0;34m,\u001b[0m \u001b[0miter\u001b[0m\u001b[0;34m(\u001b[0m\u001b[0mreadline\u001b[0m\u001b[0;34m,\u001b[0m \u001b[0;34mb\"\"\u001b[0m\u001b[0;34m)\u001b[0m\u001b[0;34m,\u001b[0m \u001b[0mempty\u001b[0m\u001b[0;34m)\u001b[0m\u001b[0;34m\u001b[0m\u001b[0;34m\u001b[0m\u001b[0m\n",
      "\u001b[0;32m/apps/pytorch/1.8.1/lib/python3.9/tokenize.py\u001b[0m in \u001b[0;36mdetect_encoding\u001b[0;34m(readline)\u001b[0m\n\u001b[1;32m    361\u001b[0m         \u001b[0;32mreturn\u001b[0m \u001b[0mencoding\u001b[0m\u001b[0;34m\u001b[0m\u001b[0;34m\u001b[0m\u001b[0m\n\u001b[1;32m    362\u001b[0m \u001b[0;34m\u001b[0m\u001b[0m\n\u001b[0;32m--> 363\u001b[0;31m     \u001b[0mfirst\u001b[0m \u001b[0;34m=\u001b[0m \u001b[0mread_or_stop\u001b[0m\u001b[0;34m(\u001b[0m\u001b[0;34m)\u001b[0m\u001b[0;34m\u001b[0m\u001b[0;34m\u001b[0m\u001b[0m\n\u001b[0m\u001b[1;32m    364\u001b[0m     \u001b[0;32mif\u001b[0m \u001b[0mfirst\u001b[0m\u001b[0;34m.\u001b[0m\u001b[0mstartswith\u001b[0m\u001b[0;34m(\u001b[0m\u001b[0mBOM_UTF8\u001b[0m\u001b[0;34m)\u001b[0m\u001b[0;34m:\u001b[0m\u001b[0;34m\u001b[0m\u001b[0;34m\u001b[0m\u001b[0m\n\u001b[1;32m    365\u001b[0m         \u001b[0mbom_found\u001b[0m \u001b[0;34m=\u001b[0m \u001b[0;32mTrue\u001b[0m\u001b[0;34m\u001b[0m\u001b[0;34m\u001b[0m\u001b[0m\n",
      "\u001b[0;32m/apps/pytorch/1.8.1/lib/python3.9/tokenize.py\u001b[0m in \u001b[0;36mread_or_stop\u001b[0;34m()\u001b[0m\n\u001b[1;32m    319\u001b[0m     \u001b[0;32mdef\u001b[0m \u001b[0mread_or_stop\u001b[0m\u001b[0;34m(\u001b[0m\u001b[0;34m)\u001b[0m\u001b[0;34m:\u001b[0m\u001b[0;34m\u001b[0m\u001b[0;34m\u001b[0m\u001b[0m\n\u001b[1;32m    320\u001b[0m         \u001b[0;32mtry\u001b[0m\u001b[0;34m:\u001b[0m\u001b[0;34m\u001b[0m\u001b[0;34m\u001b[0m\u001b[0m\n\u001b[0;32m--> 321\u001b[0;31m             \u001b[0;32mreturn\u001b[0m \u001b[0mreadline\u001b[0m\u001b[0;34m(\u001b[0m\u001b[0;34m)\u001b[0m\u001b[0;34m\u001b[0m\u001b[0;34m\u001b[0m\u001b[0m\n\u001b[0m\u001b[1;32m    322\u001b[0m         \u001b[0;32mexcept\u001b[0m \u001b[0mStopIteration\u001b[0m\u001b[0;34m:\u001b[0m\u001b[0;34m\u001b[0m\u001b[0;34m\u001b[0m\u001b[0m\n\u001b[1;32m    323\u001b[0m             \u001b[0;32mreturn\u001b[0m \u001b[0;34mb''\u001b[0m\u001b[0;34m\u001b[0m\u001b[0;34m\u001b[0m\u001b[0m\n",
      "\u001b[0;31mTypeError\u001b[0m: 'str' object is not callable"
     ]
    }
   ],
   "source": [
    "tokenize.tokenize(\"ABC\")"
   ]
  },
  {
   "cell_type": "code",
   "execution_count": null,
   "id": "38529d6c-02c1-4ce5-8f24-f420deb66d17",
   "metadata": {},
   "outputs": [],
   "source": []
  }
 ],
 "metadata": {
  "kernelspec": {
   "display_name": "PyTorch-1.8.1",
   "language": "python",
   "name": "pytorch-1.8.1"
  },
  "language_info": {
   "codemirror_mode": {
    "name": "ipython",
    "version": 3
   },
   "file_extension": ".py",
   "mimetype": "text/x-python",
   "name": "python",
   "nbconvert_exporter": "python",
   "pygments_lexer": "ipython3",
   "version": "3.9.5"
  }
 },
 "nbformat": 4,
 "nbformat_minor": 5
}
